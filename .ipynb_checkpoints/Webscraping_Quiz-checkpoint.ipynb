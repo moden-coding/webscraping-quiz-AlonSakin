{
 "cells": [
  {
   "cell_type": "markdown",
   "metadata": {
    "id": "8ATOcKzNCdKb"
   },
   "source": [
    "#Webscraping Quiz"
   ]
  },
  {
   "cell_type": "markdown",
   "metadata": {
    "id": "4SSDvuZkCx17"
   },
   "source": [
    "We are going to webscrape: https://quotes.toscrape.com/\n",
    "You will have an expanding set of tasks that starts with collecting a"
   ]
  },
  {
   "cell_type": "code",
   "execution_count": 7,
   "metadata": {
    "id": "6D0gnd32Cv9K"
   },
   "outputs": [],
   "source": [
    "import requests\n",
    "from bs4 import BeautifulSoup"
   ]
  },
  {
   "cell_type": "markdown",
   "metadata": {
    "id": "8SvPSKP6C0IM"
   },
   "source": [
    "#Tasks:"
   ]
  },
  {
   "cell_type": "markdown",
   "metadata": {
    "id": "YGffYnHZBgRP"
   },
   "source": [
    "4 Levels:<br>\n",
    "Level 1 (B): Grab the first quote from the front page. Print out the quote. <br>\n",
    "Level 2 (B+): Grab all the quotes from the front page. Store quotes in a list or dictionary (see Level 4).<br>\n",
    "Level 3 (A): Grab all the quotes from all 10 pages of the website. Store quotes in a list or dictionary (see Level 4)<br>\n",
    "Level 4 (A+): Create a dictionary where the keys are people and the values are a list of quotes by that person. Use all quotes from Level 3<br>\n",
    "\n",
    "Full points given to programmatic solutions that effectively use BeautifulSoup.<br><br>\n",
    "Use an intelligent combination of code and text blocks to demonstrate your understanding of using Python and BeautifulSoup to solve this problem."
   ]
  },
  {
   "cell_type": "markdown",
   "metadata": {},
   "source": [
    "Variables for later"
   ]
  },
  {
   "cell_type": "code",
   "execution_count": 2,
   "metadata": {},
   "outputs": [],
   "source": [
    "site = \"https://quotes.toscrape.com\"\n",
    "page_append = \"/page/{page}\" # Use with str.format(page=n)"
   ]
  },
  {
   "cell_type": "markdown",
   "metadata": {
    "id": "j_D3xMo8C2kL"
   },
   "source": [
    "Level 1\n",
    "\n",
    "Requests the main page of the website and uses BeautifulSoup to find the first element with the quote class."
   ]
  },
  {
   "cell_type": "code",
   "execution_count": 8,
   "metadata": {},
   "outputs": [
    {
     "data": {
      "text/plain": [
       "'“The world as we have created it is a process of our thinking. It cannot be changed without changing our thinking.”'"
      ]
     },
     "execution_count": 8,
     "metadata": {},
     "output_type": "execute_result"
    }
   ],
   "source": [
    "resp = requests.get(site, timeout=20)\n",
    "soup = BeautifulSoup(resp.text, \"html.parser\")\n",
    "\n",
    "quote = soup.find(\"div\", class_=\"quote\").find(\"span\", class_=\"text\").get_text()\n",
    "\n",
    "quote"
   ]
  },
  {
   "cell_type": "markdown",
   "metadata": {},
   "source": [
    "Level 2\n",
    "\n",
    "Same thing as level 1, but instead it finds all elements with the quote class and iterates over them to put them into a list."
   ]
  },
  {
   "cell_type": "code",
   "execution_count": 4,
   "metadata": {},
   "outputs": [
    {
     "data": {
      "text/plain": [
       "['“The world as we have created it is a process of our thinking. It cannot be changed without changing our thinking.”',\n",
       " '“It is our choices, Harry, that show what we truly are, far more than our abilities.”',\n",
       " '“There are only two ways to live your life. One is as though nothing is a miracle. The other is as though everything is a miracle.”',\n",
       " '“The person, be it gentleman or lady, who has not pleasure in a good novel, must be intolerably stupid.”',\n",
       " \"“Imperfection is beauty, madness is genius and it's better to be absolutely ridiculous than absolutely boring.”\",\n",
       " '“Try not to become a man of success. Rather become a man of value.”',\n",
       " '“It is better to be hated for what you are than to be loved for what you are not.”',\n",
       " \"“I have not failed. I've just found 10,000 ways that won't work.”\",\n",
       " \"“A woman is like a tea bag; you never know how strong it is until it's in hot water.”\",\n",
       " '“A day without sunshine is like, you know, night.”']"
      ]
     },
     "execution_count": 4,
     "metadata": {},
     "output_type": "execute_result"
    }
   ],
   "source": [
    "resp = requests.get(site, timeout=20)\n",
    "soup = BeautifulSoup(resp.text, \"html.parser\")\n",
    "\n",
    "quotes = [q.find(\"span\", class_=\"text\").get_text() for q in soup.find_all(\"div\", class_=\"quote\")]\n",
    "\n",
    "quotes"
   ]
  },
  {
   "cell_type": "markdown",
   "metadata": {},
   "source": [
    "Level 3\n",
    "\n",
    "Does the same thing as level 2 but 10 times.\n",
    "Creates a list of lists where every list represents a different page on the website."
   ]
  },
  {
   "cell_type": "code",
   "execution_count": 5,
   "metadata": {},
   "outputs": [
    {
     "data": {
      "text/plain": [
       "[['“The world as we have created it is a process of our thinking. It cannot be changed without changing our thinking.”',\n",
       "  '“It is our choices, Harry, that show what we truly are, far more than our abilities.”',\n",
       "  '“There are only two ways to live your life. One is as though nothing is a miracle. The other is as though everything is a miracle.”',\n",
       "  '“The person, be it gentleman or lady, who has not pleasure in a good novel, must be intolerably stupid.”',\n",
       "  \"“Imperfection is beauty, madness is genius and it's better to be absolutely ridiculous than absolutely boring.”\",\n",
       "  '“Try not to become a man of success. Rather become a man of value.”',\n",
       "  '“It is better to be hated for what you are than to be loved for what you are not.”',\n",
       "  \"“I have not failed. I've just found 10,000 ways that won't work.”\",\n",
       "  \"“A woman is like a tea bag; you never know how strong it is until it's in hot water.”\",\n",
       "  '“A day without sunshine is like, you know, night.”'],\n",
       " [\"“This life is what you make it. No matter what, you're going to mess up sometimes, it's a universal truth. But the good part is you get to decide how you're going to mess it up. Girls will be your friends - they'll act like it anyway. But just remember, some come, some go. The ones that stay with you through everything - they're your true best friends. Don't let go of them. Also remember, sisters make the best friends in the world. As for lovers, well, they'll come and go too. And baby, I hate to say it, most of them - actually pretty much all of them are going to break your heart, but you can't give up because if you give up, you'll never find your soulmate. You'll never find that half who makes you whole and that goes for everything. Just because you fail once, doesn't mean you're gonna fail at everything. Keep trying, hold on, and always, always, always believe in yourself, because if you don't, then who will, sweetie? So keep your head high, keep your chin up, and most importantly, keep smiling, because life's a beautiful thing and there's so much to smile about.”\",\n",
       "  '“It takes a great deal of bravery to stand up to our enemies, but just as much to stand up to our friends.”',\n",
       "  \"“If you can't explain it to a six year old, you don't understand it yourself.”\",\n",
       "  \"“You may not be her first, her last, or her only. She loved before she may love again. But if she loves you now, what else matters? She's not perfect—you aren't either, and the two of you may never be perfect together but if she can make you laugh, cause you to think twice, and admit to being human and making mistakes, hold onto her and give her the most you can. She may not be thinking about you every second of the day, but she will give you a part of her that she knows you can break—her heart. So don't hurt her, don't change her, don't analyze and don't expect more than she can give. Smile when she makes you happy, let her know when she makes you mad, and miss her when she's not there.”\",\n",
       "  '“I like nonsense, it wakes up the brain cells. Fantasy is a necessary ingredient in living.”',\n",
       "  '“I may not have gone where I intended to go, but I think I have ended up where I needed to be.”',\n",
       "  \"“The opposite of love is not hate, it's indifference. The opposite of art is not ugliness, it's indifference. The opposite of faith is not heresy, it's indifference. And the opposite of life is not death, it's indifference.”\",\n",
       "  '“It is not a lack of love, but a lack of friendship that makes unhappy marriages.”',\n",
       "  '“Good friends, good books, and a sleepy conscience: this is the ideal life.”',\n",
       "  '“Life is what happens to us while we are making other plans.”'],\n",
       " ['“I love you without knowing how, or when, or from where. I love you simply, without problems or pride: I love you in this way because I do not know any other way of loving but this, in which there is no I or you, so intimate that your hand upon my chest is my hand, so intimate that when I fall asleep your eyes close.”',\n",
       "  '“For every minute you are angry you lose sixty seconds of happiness.”',\n",
       "  '“If you judge people, you have no time to love them.”',\n",
       "  '“Anyone who thinks sitting in church can make you a Christian must also think that sitting in a garage can make you a car.”',\n",
       "  '“Beauty is in the eye of the beholder and it may be necessary from time to time to give a stupid or misinformed beholder a black eye.”',\n",
       "  '“Today you are You, that is truer than true. There is no one alive who is Youer than You.”',\n",
       "  '“If you want your children to be intelligent, read them fairy tales. If you want them to be more intelligent, read them more fairy tales.”',\n",
       "  '“It is impossible to live without failing at something, unless you live so cautiously that you might as well not have lived at all - in which case, you fail by default.”',\n",
       "  '“Logic will get you from A to Z; imagination will get you everywhere.”',\n",
       "  '“One good thing about music, when it hits you, you feel no pain.”'],\n",
       " [\"“The more that you read, the more things you will know. The more that you learn, the more places you'll go.”\",\n",
       "  '“Of course it is happening inside your head, Harry, but why on earth should that mean that it is not real?”',\n",
       "  '“The truth is, everyone is going to hurt you. You just got to find the ones worth suffering for.”',\n",
       "  '“Not all of us can do great things. But we can do small things with great love.”',\n",
       "  '“To the well-organized mind, death is but the next great adventure.”',\n",
       "  \"“All you need is love. But a little chocolate now and then doesn't hurt.”\",\n",
       "  \"“We read to know we're not alone.”\",\n",
       "  '“Any fool can know. The point is to understand.”',\n",
       "  '“I have always imagined that Paradise will be a kind of library.”',\n",
       "  '“It is never too late to be what you might have been.”'],\n",
       " ['“A reader lives a thousand lives before he dies, said Jojen. The man who never reads lives only one.”',\n",
       "  '“You can never get a cup of tea large enough or a book long enough to suit me.”',\n",
       "  '“You believe lies so you eventually learn to trust no one but yourself.”',\n",
       "  '“If you can make a woman laugh, you can make her do anything.”',\n",
       "  '“Life is like riding a bicycle. To keep your balance, you must keep moving.”',\n",
       "  '“The real lover is the man who can thrill you by kissing your forehead or smiling into your eyes or just staring into space.”',\n",
       "  \"“A wise girl kisses but doesn't love, listens but doesn't believe, and leaves before she is left.”\",\n",
       "  '“Only in the darkness can you see the stars.”',\n",
       "  '“It matters not what someone is born, but what they grow to be.”',\n",
       "  '“Love does not begin and end the way we seem to think it does. Love is a battle, love is a war; love is a growing up.”'],\n",
       " ['“There is nothing I would not do for those who are really my friends. I have no notion of loving people by halves, it is not my nature.”',\n",
       "  '“Do one thing every day that scares you.”',\n",
       "  '“I am good, but not an angel. I do sin, but I am not the devil. I am just a small girl in a big world trying to find someone to love.”',\n",
       "  '“If I were not a physicist, I would probably be a musician. I often think in music. I live my daydreams in music. I see my life in terms of music.”',\n",
       "  '“If you only read the books that everyone else is reading, you can only think what everyone else is thinking.”',\n",
       "  '“The difference between genius and stupidity is: genius has its limits.”',\n",
       "  \"“He's like a drug for you, Bella.”\",\n",
       "  '“There is no friend as loyal as a book.”',\n",
       "  '“When one door of happiness closes, another opens; but often we look so long at the closed door that we do not see the one which has been opened for us.”',\n",
       "  \"“Life isn't about finding yourself. Life is about creating yourself.”\"],\n",
       " [\"“That's the problem with drinking, I thought, as I poured myself a drink. If something bad happens you drink in an attempt to forget; if something good happens you drink in order to celebrate; and if nothing happens you drink to make something happen.”\",\n",
       "  '“You don’t forget the face of the person who was your last hope.”',\n",
       "  \"“Remember, we're madly in love, so it's all right to kiss me anytime you feel like it.”\",\n",
       "  '“To love at all is to be vulnerable. Love anything and your heart will be wrung and possibly broken. If you want to make sure of keeping it intact you must give it to no one, not even an animal. Wrap it carefully round with hobbies and little luxuries; avoid all entanglements. Lock it up safe in the casket or coffin of your selfishness. But in that casket, safe, dark, motionless, airless, it will change. It will not be broken; it will become unbreakable, impenetrable, irredeemable. To love is to be vulnerable.”',\n",
       "  '“Not all those who wander are lost.”',\n",
       "  '“Do not pity the dead, Harry. Pity the living, and, above all those who live without love.”',\n",
       "  '“There is nothing to writing. All you do is sit down at a typewriter and bleed.”',\n",
       "  '“Finish each day and be done with it. You have done what you could. Some blunders and absurdities no doubt crept in; forget them as soon as you can. Tomorrow is a new day. You shall begin it serenely and with too high a spirit to be encumbered with your old nonsense.”',\n",
       "  '“I have never let my schooling interfere with my education.”',\n",
       "  \"“I have heard there are troubles of more than one kind. Some come from ahead and some come from behind. But I've bought a big bat. I'm all ready you see. Now my troubles are going to have troubles with me!”\"],\n",
       " ['“If I had a flower for every time I thought of you...I could walk through my garden forever.”',\n",
       "  '“Some people never go crazy. What truly horrible lives they must lead.”',\n",
       "  '“The trouble with having an open mind, of course, is that people will insist on coming along and trying to put things in it.”',\n",
       "  '“Think left and think right and think low and think high. Oh, the thinks you can think up if only you try!”',\n",
       "  \"“What really knocks me out is a book that, when you're all done reading it, you wish the author that wrote it was a terrific friend of yours and you could call him up on the phone whenever you felt like it. That doesn't happen much, though.”\",\n",
       "  '“The reason I talk to myself is because I’m the only one whose answers I accept.”',\n",
       "  \"“You may say I'm a dreamer, but I'm not the only one. I hope someday you'll join us. And the world will live as one.”\",\n",
       "  '“I am free of all prejudice. I hate everyone equally. ”',\n",
       "  \"“The question isn't who is going to let me; it's who is going to stop me.”\",\n",
       "  \"“′Classic′ - a book which people praise and don't read.”\"],\n",
       " ['“Anyone who has never made a mistake has never tried anything new.”',\n",
       "  \"“A lady's imagination is very rapid; it jumps from admiration to love, from love to matrimony in a moment.”\",\n",
       "  '“Remember, if the time should come when you have to make a choice between what is right and what is easy, remember what happened to a boy who was good, and kind, and brave, because he strayed across the path of Lord Voldemort. Remember Cedric Diggory.”',\n",
       "  '“I declare after all there is no enjoyment like reading! How much sooner one tires of any thing than of a book! -- When I have a house of my own, I shall be miserable if I have not an excellent library.”',\n",
       "  '“There are few people whom I really love, and still fewer of whom I think well. The more I see of the world, the more am I dissatisfied with it; and every day confirms my belief of the inconsistency of all human characters, and of the little dependence that can be placed on the appearance of merit or sense.”',\n",
       "  '“Some day you will be old enough to start reading fairy tales again.”',\n",
       "  '“We are not necessarily doubting that God will do the best for us; we are wondering how painful the best will turn out to be.”',\n",
       "  '“The fear of death follows from the fear of life. A man who lives fully is prepared to die at any time.”',\n",
       "  '“A lie can travel half way around the world while the truth is putting on its shoes.”',\n",
       "  '“I believe in Christianity as I believe that the sun has risen: not only because I see it, but because by it I see everything else.”'],\n",
       " ['“The truth.\" Dumbledore sighed. \"It is a beautiful and terrible thing, and should therefore be treated with great caution.”',\n",
       "  \"“I'm the one that's got to die when it's time for me to die, so let me live my life the way I want to.”\",\n",
       "  '“To die will be an awfully big adventure.”',\n",
       "  '“It takes courage to grow up and become who you really are.”',\n",
       "  '“But better to get hurt by the truth than comforted with a lie.”',\n",
       "  '“You never really understand a person until you consider things from his point of view... Until you climb inside of his skin and walk around in it.”',\n",
       "  '“You have to write the book that wants to be written. And if the book will be too difficult for grown-ups, then you write it for children.”',\n",
       "  '“Never tell the truth to people who are not worthy of it.”',\n",
       "  \"“A person's a person, no matter how small.”\",\n",
       "  '“... a mind needs books as a sword needs a whetstone, if it is to keep its edge.”']]"
      ]
     },
     "execution_count": 5,
     "metadata": {},
     "output_type": "execute_result"
    }
   ],
   "source": [
    "quotes_by_page = []\n",
    "\n",
    "for i in range(10):\n",
    "    new_url = site + page_append.format(page=i+1)\n",
    "    \n",
    "    resp = requests.get(new_url, timeout=20)\n",
    "    soup = BeautifulSoup(resp.text, \"html.parser\")\n",
    "\n",
    "    quotes_by_page.append([q.find(\"span\", class_=\"text\").get_text() for q in soup.find_all(\"div\", class_=\"quote\")])\n",
    "\n",
    "quotes_by_page"
   ]
  },
  {
   "cell_type": "markdown",
   "metadata": {},
   "source": [
    "Level 4\n",
    "\n",
    "Similarly to level 3, it iterates over the 10 pages of the website, but this time it finds the author as well.\n",
    "Creates a dictionary where the author name points to a list of quotes."
   ]
  },
  {
   "cell_type": "code",
   "execution_count": 13,
   "metadata": {},
   "outputs": [
    {
     "data": {
      "text/plain": [
       "{'Albert Einstein': ['“The world as we have created it is a process of our thinking. It cannot be changed without changing our thinking.”',\n",
       "  '“There are only two ways to live your life. One is as though nothing is a miracle. The other is as though everything is a miracle.”',\n",
       "  '“Try not to become a man of success. Rather become a man of value.”',\n",
       "  \"“If you can't explain it to a six year old, you don't understand it yourself.”\",\n",
       "  '“If you want your children to be intelligent, read them fairy tales. If you want them to be more intelligent, read them more fairy tales.”',\n",
       "  '“Logic will get you from A to Z; imagination will get you everywhere.”',\n",
       "  '“Any fool can know. The point is to understand.”',\n",
       "  '“Life is like riding a bicycle. To keep your balance, you must keep moving.”',\n",
       "  '“If I were not a physicist, I would probably be a musician. I often think in music. I live my daydreams in music. I see my life in terms of music.”',\n",
       "  '“Anyone who has never made a mistake has never tried anything new.”'],\n",
       " 'J.K. Rowling': ['“It is our choices, Harry, that show what we truly are, far more than our abilities.”',\n",
       "  '“It takes a great deal of bravery to stand up to our enemies, but just as much to stand up to our friends.”',\n",
       "  '“It is impossible to live without failing at something, unless you live so cautiously that you might as well not have lived at all - in which case, you fail by default.”',\n",
       "  '“Of course it is happening inside your head, Harry, but why on earth should that mean that it is not real?”',\n",
       "  '“To the well-organized mind, death is but the next great adventure.”',\n",
       "  '“It matters not what someone is born, but what they grow to be.”',\n",
       "  '“Do not pity the dead, Harry. Pity the living, and, above all those who live without love.”',\n",
       "  '“Remember, if the time should come when you have to make a choice between what is right and what is easy, remember what happened to a boy who was good, and kind, and brave, because he strayed across the path of Lord Voldemort. Remember Cedric Diggory.”',\n",
       "  '“The truth.\" Dumbledore sighed. \"It is a beautiful and terrible thing, and should therefore be treated with great caution.”'],\n",
       " 'Jane Austen': ['“The person, be it gentleman or lady, who has not pleasure in a good novel, must be intolerably stupid.”',\n",
       "  '“There is nothing I would not do for those who are really my friends. I have no notion of loving people by halves, it is not my nature.”',\n",
       "  \"“A lady's imagination is very rapid; it jumps from admiration to love, from love to matrimony in a moment.”\",\n",
       "  '“I declare after all there is no enjoyment like reading! How much sooner one tires of any thing than of a book! -- When I have a house of my own, I shall be miserable if I have not an excellent library.”',\n",
       "  '“There are few people whom I really love, and still fewer of whom I think well. The more I see of the world, the more am I dissatisfied with it; and every day confirms my belief of the inconsistency of all human characters, and of the little dependence that can be placed on the appearance of merit or sense.”'],\n",
       " 'Marilyn Monroe': [\"“Imperfection is beauty, madness is genius and it's better to be absolutely ridiculous than absolutely boring.”\",\n",
       "  \"“This life is what you make it. No matter what, you're going to mess up sometimes, it's a universal truth. But the good part is you get to decide how you're going to mess it up. Girls will be your friends - they'll act like it anyway. But just remember, some come, some go. The ones that stay with you through everything - they're your true best friends. Don't let go of them. Also remember, sisters make the best friends in the world. As for lovers, well, they'll come and go too. And baby, I hate to say it, most of them - actually pretty much all of them are going to break your heart, but you can't give up because if you give up, you'll never find your soulmate. You'll never find that half who makes you whole and that goes for everything. Just because you fail once, doesn't mean you're gonna fail at everything. Keep trying, hold on, and always, always, always believe in yourself, because if you don't, then who will, sweetie? So keep your head high, keep your chin up, and most importantly, keep smiling, because life's a beautiful thing and there's so much to smile about.”\",\n",
       "  '“You believe lies so you eventually learn to trust no one but yourself.”',\n",
       "  '“If you can make a woman laugh, you can make her do anything.”',\n",
       "  '“The real lover is the man who can thrill you by kissing your forehead or smiling into your eyes or just staring into space.”',\n",
       "  \"“A wise girl kisses but doesn't love, listens but doesn't believe, and leaves before she is left.”\",\n",
       "  '“I am good, but not an angel. I do sin, but I am not the devil. I am just a small girl in a big world trying to find someone to love.”'],\n",
       " 'André Gide': ['“It is better to be hated for what you are than to be loved for what you are not.”'],\n",
       " 'Thomas A. Edison': [\"“I have not failed. I've just found 10,000 ways that won't work.”\"],\n",
       " 'Eleanor Roosevelt': [\"“A woman is like a tea bag; you never know how strong it is until it's in hot water.”\",\n",
       "  '“Do one thing every day that scares you.”'],\n",
       " 'Steve Martin': ['“A day without sunshine is like, you know, night.”'],\n",
       " 'Bob Marley': [\"“You may not be her first, her last, or her only. She loved before she may love again. But if she loves you now, what else matters? She's not perfect—you aren't either, and the two of you may never be perfect together but if she can make you laugh, cause you to think twice, and admit to being human and making mistakes, hold onto her and give her the most you can. She may not be thinking about you every second of the day, but she will give you a part of her that she knows you can break—her heart. So don't hurt her, don't change her, don't analyze and don't expect more than she can give. Smile when she makes you happy, let her know when she makes you mad, and miss her when she's not there.”\",\n",
       "  '“One good thing about music, when it hits you, you feel no pain.”',\n",
       "  '“The truth is, everyone is going to hurt you. You just got to find the ones worth suffering for.”'],\n",
       " 'Dr. Seuss': ['“I like nonsense, it wakes up the brain cells. Fantasy is a necessary ingredient in living.”',\n",
       "  '“Today you are You, that is truer than true. There is no one alive who is Youer than You.”',\n",
       "  \"“The more that you read, the more things you will know. The more that you learn, the more places you'll go.”\",\n",
       "  \"“I have heard there are troubles of more than one kind. Some come from ahead and some come from behind. But I've bought a big bat. I'm all ready you see. Now my troubles are going to have troubles with me!”\",\n",
       "  '“Think left and think right and think low and think high. Oh, the thinks you can think up if only you try!”',\n",
       "  \"“A person's a person, no matter how small.”\"],\n",
       " 'Douglas Adams': ['“I may not have gone where I intended to go, but I think I have ended up where I needed to be.”'],\n",
       " 'Elie Wiesel': [\"“The opposite of love is not hate, it's indifference. The opposite of art is not ugliness, it's indifference. The opposite of faith is not heresy, it's indifference. And the opposite of life is not death, it's indifference.”\"],\n",
       " 'Friedrich Nietzsche': ['“It is not a lack of love, but a lack of friendship that makes unhappy marriages.”'],\n",
       " 'Mark Twain': ['“Good friends, good books, and a sleepy conscience: this is the ideal life.”',\n",
       "  '“I have never let my schooling interfere with my education.”',\n",
       "  \"“′Classic′ - a book which people praise and don't read.”\",\n",
       "  '“The fear of death follows from the fear of life. A man who lives fully is prepared to die at any time.”',\n",
       "  '“A lie can travel half way around the world while the truth is putting on its shoes.”',\n",
       "  '“Never tell the truth to people who are not worthy of it.”'],\n",
       " 'Allen Saunders': ['“Life is what happens to us while we are making other plans.”'],\n",
       " 'Pablo Neruda': ['“I love you without knowing how, or when, or from where. I love you simply, without problems or pride: I love you in this way because I do not know any other way of loving but this, in which there is no I or you, so intimate that your hand upon my chest is my hand, so intimate that when I fall asleep your eyes close.”'],\n",
       " 'Ralph Waldo Emerson': ['“For every minute you are angry you lose sixty seconds of happiness.”',\n",
       "  '“Finish each day and be done with it. You have done what you could. Some blunders and absurdities no doubt crept in; forget them as soon as you can. Tomorrow is a new day. You shall begin it serenely and with too high a spirit to be encumbered with your old nonsense.”'],\n",
       " 'Mother Teresa': ['“If you judge people, you have no time to love them.”',\n",
       "  '“Not all of us can do great things. But we can do small things with great love.”'],\n",
       " 'Garrison Keillor': ['“Anyone who thinks sitting in church can make you a Christian must also think that sitting in a garage can make you a car.”'],\n",
       " 'Jim Henson': ['“Beauty is in the eye of the beholder and it may be necessary from time to time to give a stupid or misinformed beholder a black eye.”'],\n",
       " 'Charles M. Schulz': [\"“All you need is love. But a little chocolate now and then doesn't hurt.”\"],\n",
       " 'William Nicholson': [\"“We read to know we're not alone.”\"],\n",
       " 'Jorge Luis Borges': ['“I have always imagined that Paradise will be a kind of library.”'],\n",
       " 'George Eliot': ['“It is never too late to be what you might have been.”'],\n",
       " 'George R.R. Martin': ['“A reader lives a thousand lives before he dies, said Jojen. The man who never reads lives only one.”',\n",
       "  '“... a mind needs books as a sword needs a whetstone, if it is to keep its edge.”'],\n",
       " 'C.S. Lewis': ['“You can never get a cup of tea large enough or a book long enough to suit me.”',\n",
       "  '“To love at all is to be vulnerable. Love anything and your heart will be wrung and possibly broken. If you want to make sure of keeping it intact you must give it to no one, not even an animal. Wrap it carefully round with hobbies and little luxuries; avoid all entanglements. Lock it up safe in the casket or coffin of your selfishness. But in that casket, safe, dark, motionless, airless, it will change. It will not be broken; it will become unbreakable, impenetrable, irredeemable. To love is to be vulnerable.”',\n",
       "  '“Some day you will be old enough to start reading fairy tales again.”',\n",
       "  '“We are not necessarily doubting that God will do the best for us; we are wondering how painful the best will turn out to be.”',\n",
       "  '“I believe in Christianity as I believe that the sun has risen: not only because I see it, but because by it I see everything else.”'],\n",
       " 'Martin Luther King Jr.': ['“Only in the darkness can you see the stars.”'],\n",
       " 'James Baldwin': ['“Love does not begin and end the way we seem to think it does. Love is a battle, love is a war; love is a growing up.”'],\n",
       " 'Haruki Murakami': ['“If you only read the books that everyone else is reading, you can only think what everyone else is thinking.”'],\n",
       " 'Alexandre Dumas fils': ['“The difference between genius and stupidity is: genius has its limits.”'],\n",
       " 'Stephenie Meyer': [\"“He's like a drug for you, Bella.”\"],\n",
       " 'Ernest Hemingway': ['“There is no friend as loyal as a book.”',\n",
       "  '“There is nothing to writing. All you do is sit down at a typewriter and bleed.”'],\n",
       " 'Helen Keller': ['“When one door of happiness closes, another opens; but often we look so long at the closed door that we do not see the one which has been opened for us.”'],\n",
       " 'George Bernard Shaw': [\"“Life isn't about finding yourself. Life is about creating yourself.”\"],\n",
       " 'Charles Bukowski': [\"“That's the problem with drinking, I thought, as I poured myself a drink. If something bad happens you drink in an attempt to forget; if something good happens you drink in order to celebrate; and if nothing happens you drink to make something happen.”\",\n",
       "  '“Some people never go crazy. What truly horrible lives they must lead.”'],\n",
       " 'Suzanne Collins': ['“You don’t forget the face of the person who was your last hope.”',\n",
       "  \"“Remember, we're madly in love, so it's all right to kiss me anytime you feel like it.”\"],\n",
       " 'J.R.R. Tolkien': ['“Not all those who wander are lost.”'],\n",
       " 'Alfred Tennyson': ['“If I had a flower for every time I thought of you...I could walk through my garden forever.”'],\n",
       " 'Terry Pratchett': ['“The trouble with having an open mind, of course, is that people will insist on coming along and trying to put things in it.”'],\n",
       " 'J.D. Salinger': [\"“What really knocks me out is a book that, when you're all done reading it, you wish the author that wrote it was a terrific friend of yours and you could call him up on the phone whenever you felt like it. That doesn't happen much, though.”\"],\n",
       " 'George Carlin': ['“The reason I talk to myself is because I’m the only one whose answers I accept.”'],\n",
       " 'John Lennon': [\"“You may say I'm a dreamer, but I'm not the only one. I hope someday you'll join us. And the world will live as one.”\"],\n",
       " 'W.C. Fields': ['“I am free of all prejudice. I hate everyone equally. ”'],\n",
       " 'Ayn Rand': [\"“The question isn't who is going to let me; it's who is going to stop me.”\"],\n",
       " 'Jimi Hendrix': [\"“I'm the one that's got to die when it's time for me to die, so let me live my life the way I want to.”\"],\n",
       " 'J.M. Barrie': ['“To die will be an awfully big adventure.”'],\n",
       " 'E.E. Cummings': ['“It takes courage to grow up and become who you really are.”'],\n",
       " 'Khaled Hosseini': ['“But better to get hurt by the truth than comforted with a lie.”'],\n",
       " 'Harper Lee': ['“You never really understand a person until you consider things from his point of view... Until you climb inside of his skin and walk around in it.”'],\n",
       " \"Madeleine L'Engle\": ['“You have to write the book that wants to be written. And if the book will be too difficult for grown-ups, then you write it for children.”']}"
      ]
     },
     "execution_count": 13,
     "metadata": {},
     "output_type": "execute_result"
    }
   ],
   "source": [
    "quotes_by_person = {}\n",
    "\n",
    "for i in range(10):\n",
    "    new_url = site + page_append.format(page=i+1)\n",
    "    \n",
    "    resp = requests.get(new_url, timeout=20)\n",
    "    soup = BeautifulSoup(resp.text, \"html.parser\")\n",
    "\n",
    "    for q in soup.find_all(\"div\", class_=\"quote\"):\n",
    "        text = q.find(\"span\", class_=\"text\").get_text()\n",
    "        author = q.find(\"small\", class_=\"author\").get_text()\n",
    "\n",
    "        if not author in quotes_by_person.keys():\n",
    "            quotes_by_person[author] = []\n",
    "        \n",
    "        quotes_by_person[author].append(text)\n",
    "\n",
    "quotes_by_person"
   ]
  }
 ],
 "metadata": {
  "colab": {
   "provenance": []
  },
  "kernelspec": {
   "display_name": "Python 3 (ipykernel)",
   "language": "python",
   "name": "python3"
  },
  "language_info": {
   "codemirror_mode": {
    "name": "ipython",
    "version": 3
   },
   "file_extension": ".py",
   "mimetype": "text/x-python",
   "name": "python",
   "nbconvert_exporter": "python",
   "pygments_lexer": "ipython3",
   "version": "3.13.5"
  }
 },
 "nbformat": 4,
 "nbformat_minor": 4
}
